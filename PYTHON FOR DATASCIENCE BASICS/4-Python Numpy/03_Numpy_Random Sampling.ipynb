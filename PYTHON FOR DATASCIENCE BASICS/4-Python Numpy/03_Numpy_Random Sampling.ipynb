{
 "cells": [
  {
   "cell_type": "markdown",
   "metadata": {},
   "source": [
    "# Numpy_Random Sampling"
   ]
  },
  {
   "cell_type": "markdown",
   "metadata": {},
   "source": [
    "### 1. Uniformly distributed Random Values in a given shape"
   ]
  },
  {
   "cell_type": "code",
   "execution_count": 1,
   "metadata": {},
   "outputs": [
    {
     "name": "stdout",
     "output_type": "stream",
     "text": [
      "[[0.24176795 0.12545089]\n",
      " [0.18354171 0.4904262 ]\n",
      " [0.00086559 0.84120148]]\n"
     ]
    }
   ],
   "source": [
    "import numpy as np\n",
    "\n",
    "print(np.random.rand(3, 2))                  # uniformly distributed value between 0 and 1"
   ]
  },
  {
   "cell_type": "markdown",
   "metadata": {},
   "source": [
    "### 2. Standard Normal distributed Random Values in a given shape"
   ]
  },
  {
   "cell_type": "code",
   "execution_count": 2,
   "metadata": {},
   "outputs": [
    {
     "name": "stdout",
     "output_type": "stream",
     "text": [
      "[[ 0.62512291 -1.66603595 -1.17109045 -1.09194936]\n",
      " [-0.17678727  1.15076914 -0.45750115  0.75484479]\n",
      " [-0.65647292  0.26596072 -1.73875125  0.02223675]]\n"
     ]
    }
   ],
   "source": [
    "print(np.random.randn(3, 4))                  # Standard Normal distributed"
   ]
  },
  {
   "cell_type": "markdown",
   "metadata": {},
   "source": [
    "### 3. Random integers arrays"
   ]
  },
  {
   "cell_type": "code",
   "execution_count": 3,
   "metadata": {},
   "outputs": [
    {
     "name": "stdout",
     "output_type": "stream",
     "text": [
      "0\n",
      "[[ 3  3 14 18]\n",
      " [16 18 17 13]]\n",
      "[[10 19 12 19]\n",
      " [15 11 14 10]]\n"
     ]
    }
   ],
   "source": [
    "print(np.random.randint(20))                 # Random no till 10\n",
    "\n",
    "print(np.random.randint(20, size=(2,4)))     \n",
    "\n",
    "print(np.random.randint(5,20, (2,4))) "
   ]
  },
  {
   "cell_type": "markdown",
   "metadata": {},
   "source": [
    "### 4.Create an array uniformly distributed in the given range 0 and 1 "
   ]
  },
  {
   "cell_type": "code",
   "execution_count": 4,
   "metadata": {
    "scrolled": true
   },
   "outputs": [
    {
     "name": "stdout",
     "output_type": "stream",
     "text": [
      "[[0.42005792 0.88886949 0.30281682 0.40788826]\n",
      " [0.7809084  0.58320149 0.19570744 0.05969577]]\n"
     ]
    }
   ],
   "source": [
    "print(np.random.random((2,4))) "
   ]
  }
 ],
 "metadata": {
  "kernelspec": {
   "display_name": "Python 3",
   "language": "python",
   "name": "python3"
  },
  "language_info": {
   "codemirror_mode": {
    "name": "ipython",
    "version": 3
   },
   "file_extension": ".py",
   "mimetype": "text/x-python",
   "name": "python",
   "nbconvert_exporter": "python",
   "pygments_lexer": "ipython3",
   "version": "3.6.8"
  },
  "varInspector": {
   "cols": {
    "lenName": 16,
    "lenType": 16,
    "lenVar": 40
   },
   "kernels_config": {
    "python": {
     "delete_cmd_postfix": "",
     "delete_cmd_prefix": "del ",
     "library": "var_list.py",
     "varRefreshCmd": "print(var_dic_list())"
    },
    "r": {
     "delete_cmd_postfix": ") ",
     "delete_cmd_prefix": "rm(",
     "library": "var_list.r",
     "varRefreshCmd": "cat(var_dic_list()) "
    }
   },
   "types_to_exclude": [
    "module",
    "function",
    "builtin_function_or_method",
    "instance",
    "_Feature"
   ],
   "window_display": false
  }
 },
 "nbformat": 4,
 "nbformat_minor": 2
}
